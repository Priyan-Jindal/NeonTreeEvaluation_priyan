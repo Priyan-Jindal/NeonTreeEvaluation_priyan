{
  "nbformat": 4,
  "nbformat_minor": 0,
  "metadata": {
    "colab": {
      "provenance": [],
      "machine_shape": "hm"
    },
    "kernelspec": {
      "name": "python3",
      "display_name": "Python 3"
    },
    "language_info": {
      "name": "python"
    }
  },
  "cells": [
    {
      "cell_type": "code",
      "source": [
        "# Copyright (c) 2023 William Locke\n",
        "\n",
        "# This source code is licensed under the license found in the\n",
        "# LICENSE file in the root directory of this source tree."
      ],
      "metadata": {
        "id": "sa5OtMFuhrPY"
      },
      "execution_count": null,
      "outputs": []
    },
    {
      "cell_type": "code",
      "execution_count": null,
      "metadata": {
        "id": "boMfHlGRGbRS"
      },
      "outputs": [],
      "source": [
        "from google.colab import drive\n",
        "drive.mount('/content/drive')"
      ]
    },
    {
      "cell_type": "code",
      "source": [
        "%%capture\n",
        "!pip install rasterio\n",
        "!pip install supervision\n",
        "!unzip '/content/drive/MyDrive/Tree Project/Data/NEONTreeEvaluation/evaluation.zip' -d \"/content\"\n",
        "!unzip '/content/drive/MyDrive/Tree Project/Data/NEONTreeEvaluation/annotations.zip' -d \"/content\""
      ],
      "metadata": {
        "id": "PszhVnsIrhbg"
      },
      "execution_count": null,
      "outputs": []
    },
    {
      "cell_type": "code",
      "source": [
        "#@title Copy personal SAM (can restart here for testing changes)\n",
        "\n",
        "%cd /content\n",
        "import os\n",
        "if os.path.exists('/content/segment-anything'):\n",
        "  !rm -r /content/segment-anything\n",
        "!git clone https://github.com/WilliamLockeIV/segment-anything.git\n",
        "%cd /content/segment-anything\n",
        "!pip install -q .\n",
        "%cd /content"
      ],
      "metadata": {
        "id": "YReRVjjklXOB"
      },
      "execution_count": null,
      "outputs": []
    },
    {
      "cell_type": "code",
      "source": [
        "#@title Fixes an occasional bug upon restarting runtime\n",
        "\n",
        "import locale\n",
        "def getpreferredencoding(do_setlocale = True):\n",
        "    return \"UTF-8\"\n",
        "locale.getpreferredencoding = getpreferredencoding"
      ],
      "metadata": {
        "id": "pmive_q4Jfiu"
      },
      "execution_count": null,
      "outputs": []
    },
    {
      "cell_type": "code",
      "source": [
        "#@title Import Modules\n",
        "%cd /content\n",
        "from segment_anything import NEONTreeDataset, VectorDataset\n",
        "from segment_anything import HungarianMatcher, SetCriterion, train_one_epoch\n",
        "from segment_anything.modeling import BoxDecoder, TwoWayTransformer\n",
        "from segment_anything.utils import misc as utils\n",
        "import os\n",
        "import cv2\n",
        "import numpy as np\n",
        "import matplotlib.pyplot as plt\n",
        "import supervision as sv\n",
        "import rasterio\n",
        "import torch\n",
        "from torch.utils.data import DataLoader\n",
        "from PIL import Image\n",
        "import xml.etree.ElementTree as ET"
      ],
      "metadata": {
        "id": "jY0gpSIPJlTu"
      },
      "execution_count": null,
      "outputs": []
    },
    {
      "cell_type": "code",
      "source": [
        "# Preprocessed data used for VectorDataset\n",
        "vector_path = '/content/drive/MyDrive/Tree Project/Data/NEONTreeEvaluation/Evaluation/Image Vectors'\n",
        "ann_cxcywh_path = '/content/drive/MyDrive/Tree Project/Data/NEONTreeEvaluation/Evaluation/Annotations'\n",
        "prompt_path = '/content/drive/MyDrive/Tree Project/Data/NEONTreeEvaluation/Evaluation/Prompts'"
      ],
      "metadata": {
        "id": "aCAeMkxlGuvl"
      },
      "execution_count": null,
      "outputs": []
    },
    {
      "cell_type": "code",
      "source": [
        "vector_ds = VectorDataset(image_path=vector_path, prompt_path=prompt_path, ann_path=ann_cxcywh_path)\n",
        "vector_dl = DataLoader(vector_ds, batch_size=2, shuffle=False, collate_fn=utils.vector_collate_fn)"
      ],
      "metadata": {
        "id": "Uoaao3qq46P2"
      },
      "execution_count": null,
      "outputs": []
    },
    {
      "cell_type": "code",
      "source": [
        "# The first time running through the Dataset (or Dataloader) takes about 5 minutes; subsequent runs\n",
        "# take about 5 seconds. I do the first runthrough here so as not to affect training time.\n",
        "for vector in vector_ds:\n",
        "  pass"
      ],
      "metadata": {
        "id": "8GTCAKw6SVWw"
      },
      "execution_count": null,
      "outputs": []
    },
    {
      "cell_type": "code",
      "source": [
        "device = torch.device('cuda' if torch.cuda.is_available() else 'cpu')\n",
        "\n",
        "box_decoder = BoxDecoder(\n",
        "    transformer = TwoWayTransformer(\n",
        "        depth=2,\n",
        "        embedding_dim=256,\n",
        "        mlp_dim=2048,\n",
        "        num_heads=8\n",
        "    ),\n",
        "    transformer_dim = 256,\n",
        "    num_boxes = 200\n",
        ")\n",
        "\n",
        "matcher = HungarianMatcher(cost_class=0)\n",
        "\n",
        "criterion = SetCriterion(num_classes=1,\n",
        "                         matcher=matcher,\n",
        "                         weight_dict={'loss_ce':1, 'cardinality':0, 'loss_bbox':1, 'loss_giou':1},\n",
        "                         eos_coef=1,\n",
        "                         losses=['labels','cardinality','boxes'])\n",
        "\n",
        "optimizer = torch.optim.AdamW(box_decoder.parameters())\n",
        "\n",
        "utils.model_size(box_decoder)"
      ],
      "metadata": {
        "id": "DT5HgSvZk0lx"
      },
      "execution_count": null,
      "outputs": []
    },
    {
      "cell_type": "code",
      "source": [
        "box_decoder.train()\n",
        "criterion.train()\n",
        "metric_logger = utils.MetricLogger(delimiter=\"  \")\n",
        "metric_logger.add_meter('lr', utils.SmoothedValue(window_size=1, fmt='{value:.6f}'))\n",
        "metric_logger.add_meter('class_error', utils.SmoothedValue(window_size=1, fmt='{value:.2f}'))\n",
        "header = 'Epoch: [0]'\n",
        "print_freq = 10\n",
        "\n",
        "batch = next(iter(vector_dl))\n",
        "batch_outputs = []\n",
        "for vector in batch:\n",
        "    rgb_vector = vector.get('rgb', torch.empty(0))\n",
        "    multi_vector = vector.get('multi', torch.empty(0))\n",
        "    image_vector = torch.cat((rgb_vector, multi_vector), dim=1).to(device)\n",
        "    if image_vector.numel()==0:\n",
        "        raise ValueError('Either RGB or Multi vector must be provided to model, but both are empty.')\n",
        "    sparse_prompt = vector['prompt']['sparse'].to(device)\n",
        "    position_prompt = vector['prompt']['position'].to(device)\n",
        "\n",
        "    outputs = box_decoder(image_vector,\n",
        "                      position_prompt,\n",
        "                      sparse_prompt)\n",
        "    batch_outputs.append(outputs)\n",
        "\n",
        "preds = {k : torch.cat([output[k] for output in batch_outputs]) for k in ['pred_boxes', 'pred_logits']}\n",
        "targets = [vector['annotation'] for vector in batch]\n",
        "loss_dict = criterion(preds, targets)"
      ],
      "metadata": {
        "id": "79H-JeWz7Vnb"
      },
      "execution_count": null,
      "outputs": []
    },
    {
      "cell_type": "code",
      "source": [
        "loss_dict"
      ],
      "metadata": {
        "id": "Au6hSrs09V16"
      },
      "execution_count": null,
      "outputs": []
    },
    {
      "cell_type": "code",
      "source": [
        "metrics = train_one_epoch(box_decoder, criterion, vector_dl, optimizer, device, epoch=1)"
      ],
      "metadata": {
        "id": "4tIPJXeaRKUC"
      },
      "execution_count": null,
      "outputs": []
    },
    {
      "cell_type": "code",
      "source": [
        "# Save the first epoch's metrics.\n",
        "model_folder = '/content/drive/MyDrive/Tree Project/Models'\n",
        "model_name = '???'\n",
        "with open(os.path.join(model_folder, 'Logs', f'{model_name}.txt'), 'a') as f:\n",
        "  f.write(f'Epoch {i}\\n')\n",
        "  for k, v in metrics.items():\n",
        "    f.write(f'{k:<30} {v:.10}\\n')\n",
        "  f.write('\\n')"
      ],
      "metadata": {
        "id": "bNI6Oqf1Yu9w"
      },
      "execution_count": null,
      "outputs": []
    },
    {
      "cell_type": "code",
      "source": [
        "# If first epoch looks promising (model is learning) continue training for num_epochs.\n",
        "# Save metrics at end of each epoch, save model at end of num_epochs.\n",
        "num_epochs = 10\n",
        "for i in range(2,num_epochs+1):\n",
        "  metrics = train_one_epoch(box_decoder, criterion, vector_dl, optimizer, device, epoch=i)\n",
        "  with open(os.path.join(model_folder, 'Logs', f'{model_name}.txt'), 'a') as f:\n",
        "    f.write(f'Epoch {i}\\n')\n",
        "    for k, v in metrics.items():\n",
        "      f.write(f'{k:<30} {v:.10}\\n')\n",
        "    f.write('\\n')\n",
        "\n",
        "torch.save({\n",
        "            'epoch': i,\n",
        "            'box_decoder_state_dict': box_decoder.state_dict(),\n",
        "            'criterion_state_dict': criterion.state_dict(),\n",
        "            'optimizer_state_dict': optimizer.state_dict(),\n",
        "            'metrics': metrics,\n",
        "            }, os.path.join(model_folder, f'{model_name}.pth'))"
      ],
      "metadata": {
        "id": "A3vwbkvTysKM"
      },
      "execution_count": null,
      "outputs": []
    },
    {
      "cell_type": "code",
      "source": [
        "# Save model separately from above if necessary (e.g. if model training did not complete)\n",
        "torch.save({\n",
        "            'epoch': i,\n",
        "            'box_decoder_state_dict': box_decoder.state_dict(),\n",
        "            'criterion_state_dict': criterion.state_dict(),\n",
        "            'optimizer_state_dict': optimizer.state_dict(),\n",
        "            'metrics': metrics,\n",
        "            }, os.path.join(model_folder, f'{model_name}.pth'))"
      ],
      "metadata": {
        "id": "RfHI3l9ZiHuj"
      },
      "execution_count": null,
      "outputs": []
    }
  ]
}